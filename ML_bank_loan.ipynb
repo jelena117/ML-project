{
 "cells": [
  {
   "cell_type": "markdown",
   "metadata": {},
   "source": [
    "# Predvidjanje odobravanja kredita u banci"
   ]
  },
  {
   "cell_type": "markdown",
   "metadata": {},
   "source": [
    "Cilj projekta je da kreiramo model koji najbolje predvidja da li zahtev za kredit treba da bude odobren ili ne?\n",
    "\n",
    "- Ciljna promenljiva: LoanApproved\n",
    "- Atributi: ApplicantGender, ApplicantMarried, ApplicantDependents, ApplicantEducation, ApplicantSelfEmployed, ApplicantIncome etc.\n",
    "\n",
    "Obzirom da je ciljna promenljiva kategoricka, radicemo sa klasifikacionim modelima."
   ]
  },
  {
   "cell_type": "code",
   "execution_count": 16,
   "metadata": {},
   "outputs": [],
   "source": [
    "import warnings\n",
    "warnings.filterwarnings('ignore')"
   ]
  },
  {
   "cell_type": "code",
   "execution_count": 86,
   "metadata": {},
   "outputs": [],
   "source": [
    "# Zbog preglednosti ovde su ucitane sve biblioteke koriscene u radu\n",
    "import pandas as pd\n",
    "import numpy as np\n",
    "import missingno as msno\n",
    "import matplotlib.pyplot as plt\n",
    "from scipy.stats import f_oneway\n",
    "from sklearn.model_selection import train_test_split\n",
    "from sklearn.preprocessing import StandardScaler\n",
    "from sklearn.linear_model import LogisticRegression\n",
    "from sklearn import metrics\n",
    "from sklearn.model_selection import cross_val_score\n",
    "from sklearn.ensemble import RandomForestClassifier\n",
    "from sklearn.ensemble import AdaBoostClassifier\n",
    "from sklearn.tree import DecisionTreeClassifier"
   ]
  },
  {
   "cell_type": "code",
   "execution_count": 87,
   "metadata": {},
   "outputs": [
    {
     "name": "stdout",
     "output_type": "stream",
     "text": [
      "Dimenzije podataka: (55382, 20)\n"
     ]
    },
    {
     "data": {
      "text/html": [
       "<div>\n",
       "<style scoped>\n",
       "    .dataframe tbody tr th:only-of-type {\n",
       "        vertical-align: middle;\n",
       "    }\n",
       "\n",
       "    .dataframe tbody tr th {\n",
       "        vertical-align: top;\n",
       "    }\n",
       "\n",
       "    .dataframe thead th {\n",
       "        text-align: right;\n",
       "    }\n",
       "</style>\n",
       "<table border=\"1\" class=\"dataframe\">\n",
       "  <thead>\n",
       "    <tr style=\"text-align: right;\">\n",
       "      <th></th>\n",
       "      <th>Unnamed: 0</th>\n",
       "      <th>LoanID</th>\n",
       "      <th>ApplicantID</th>\n",
       "      <th>ApplicantGender</th>\n",
       "      <th>ApplicantMarried</th>\n",
       "      <th>ApplicantDependents</th>\n",
       "      <th>ApplicantEducation</th>\n",
       "      <th>ApplicantSelfEmployed</th>\n",
       "      <th>ApplicantIncome</th>\n",
       "      <th>ApplicantCreditHistory</th>\n",
       "      <th>ApplicantZIP</th>\n",
       "      <th>ApplicantState</th>\n",
       "      <th>ApplicantEmplLength</th>\n",
       "      <th>ApplicantHomeOwn</th>\n",
       "      <th>LoanAmount</th>\n",
       "      <th>LoanTerm</th>\n",
       "      <th>LoanIntRate</th>\n",
       "      <th>LoanDesc</th>\n",
       "      <th>LoanPurpose</th>\n",
       "      <th>LoanApproved</th>\n",
       "    </tr>\n",
       "  </thead>\n",
       "  <tbody>\n",
       "    <tr>\n",
       "      <th>0</th>\n",
       "      <td>0</td>\n",
       "      <td>56026</td>\n",
       "      <td>19874</td>\n",
       "      <td>MoÅ¡ki</td>\n",
       "      <td>NE</td>\n",
       "      <td>0 oseb</td>\n",
       "      <td>Diplomiral</td>\n",
       "      <td>NE</td>\n",
       "      <td>1949.666667</td>\n",
       "      <td>1.0</td>\n",
       "      <td>33xx</td>\n",
       "      <td>Slovenija</td>\n",
       "      <td>5 let</td>\n",
       "      <td>STANOVANJSKI KREDIT</td>\n",
       "      <td>NaN</td>\n",
       "      <td>90.0</td>\n",
       "      <td>1.42%</td>\n",
       "      <td>NaN</td>\n",
       "      <td>prenova</td>\n",
       "      <td>Y</td>\n",
       "    </tr>\n",
       "    <tr>\n",
       "      <th>1</th>\n",
       "      <td>1</td>\n",
       "      <td>53884</td>\n",
       "      <td>34258</td>\n",
       "      <td>MoÅ¡ki</td>\n",
       "      <td>DA</td>\n",
       "      <td>1 oseba</td>\n",
       "      <td>Diplomiral</td>\n",
       "      <td>NE</td>\n",
       "      <td>1527.666667</td>\n",
       "      <td>1.0</td>\n",
       "      <td>64xx</td>\n",
       "      <td>Slovenija</td>\n",
       "      <td>10+ let</td>\n",
       "      <td>NAJEM</td>\n",
       "      <td>44800.0</td>\n",
       "      <td>90.0</td>\n",
       "      <td>3.9%</td>\n",
       "      <td>NaN</td>\n",
       "      <td>drugo</td>\n",
       "      <td>N</td>\n",
       "    </tr>\n",
       "    <tr>\n",
       "      <th>2</th>\n",
       "      <td>2</td>\n",
       "      <td>28446</td>\n",
       "      <td>65530</td>\n",
       "      <td>MoÅ¡ki</td>\n",
       "      <td>DA</td>\n",
       "      <td>0 oseb</td>\n",
       "      <td>Diplomiral</td>\n",
       "      <td>DA</td>\n",
       "      <td>1000.000000</td>\n",
       "      <td>1.0</td>\n",
       "      <td>14xx</td>\n",
       "      <td>SI</td>\n",
       "      <td>2 leti</td>\n",
       "      <td>STANOVANJSKI KREDIT</td>\n",
       "      <td>23100.0</td>\n",
       "      <td>90.0</td>\n",
       "      <td>3.26%</td>\n",
       "      <td>NaN</td>\n",
       "      <td>NaN</td>\n",
       "      <td>Y</td>\n",
       "    </tr>\n",
       "    <tr>\n",
       "      <th>3</th>\n",
       "      <td>3</td>\n",
       "      <td>48350</td>\n",
       "      <td>66552</td>\n",
       "      <td>MoÅ¡ki</td>\n",
       "      <td>DA</td>\n",
       "      <td>0 oseb</td>\n",
       "      <td>Brez diplome</td>\n",
       "      <td>NE</td>\n",
       "      <td>861.000000</td>\n",
       "      <td>1.0</td>\n",
       "      <td>30xx</td>\n",
       "      <td>si</td>\n",
       "      <td>3 leta</td>\n",
       "      <td>NAJEM</td>\n",
       "      <td>42000.0</td>\n",
       "      <td>90.0</td>\n",
       "      <td>2.8%</td>\n",
       "      <td>NaN</td>\n",
       "      <td>NaN</td>\n",
       "      <td>Y</td>\n",
       "    </tr>\n",
       "    <tr>\n",
       "      <th>4</th>\n",
       "      <td>4</td>\n",
       "      <td>7213</td>\n",
       "      <td>4270</td>\n",
       "      <td>MoÅ¡ki</td>\n",
       "      <td>NE</td>\n",
       "      <td>0 oseb</td>\n",
       "      <td>Diplomiral</td>\n",
       "      <td>NE</td>\n",
       "      <td>2000.000000</td>\n",
       "      <td>1.0</td>\n",
       "      <td>21xx</td>\n",
       "      <td>SI</td>\n",
       "      <td>&lt; 1 leto</td>\n",
       "      <td>STANOVANJSKI KREDIT</td>\n",
       "      <td>49350.0</td>\n",
       "      <td>90.0</td>\n",
       "      <td>2.9%</td>\n",
       "      <td>NaN</td>\n",
       "      <td>NaN</td>\n",
       "      <td>Y</td>\n",
       "    </tr>\n",
       "    <tr>\n",
       "      <th>5</th>\n",
       "      <td>5</td>\n",
       "      <td>18217</td>\n",
       "      <td>39282</td>\n",
       "      <td>MoÅ¡ki</td>\n",
       "      <td>DA</td>\n",
       "      <td>2 osebi</td>\n",
       "      <td>Diplomiral</td>\n",
       "      <td>DA</td>\n",
       "      <td>1805.666667</td>\n",
       "      <td>1.0</td>\n",
       "      <td>44xx</td>\n",
       "      <td>si</td>\n",
       "      <td>10+ let</td>\n",
       "      <td>STANOVANJSKI KREDIT</td>\n",
       "      <td>93450.0</td>\n",
       "      <td>90.0</td>\n",
       "      <td>2.6%</td>\n",
       "      <td>NaN</td>\n",
       "      <td>NaN</td>\n",
       "      <td>Y</td>\n",
       "    </tr>\n",
       "    <tr>\n",
       "      <th>6</th>\n",
       "      <td>6</td>\n",
       "      <td>3741</td>\n",
       "      <td>44057</td>\n",
       "      <td>MoÅ¡ki</td>\n",
       "      <td>DA</td>\n",
       "      <td>0 oseb</td>\n",
       "      <td>Brez diplome</td>\n",
       "      <td>NE</td>\n",
       "      <td>777.666667</td>\n",
       "      <td>1.0</td>\n",
       "      <td>60xx</td>\n",
       "      <td>SI</td>\n",
       "      <td>7 let</td>\n",
       "      <td>NAJEM</td>\n",
       "      <td>33250.0</td>\n",
       "      <td>90.0</td>\n",
       "      <td>2.2%</td>\n",
       "      <td>NaN</td>\n",
       "      <td>NaN</td>\n",
       "      <td>Y</td>\n",
       "    </tr>\n",
       "    <tr>\n",
       "      <th>7</th>\n",
       "      <td>9</td>\n",
       "      <td>39566</td>\n",
       "      <td>5809</td>\n",
       "      <td>MoÅ¡ki</td>\n",
       "      <td>DA</td>\n",
       "      <td>1 oseba</td>\n",
       "      <td>Diplomiral</td>\n",
       "      <td>NE</td>\n",
       "      <td>4280.333333</td>\n",
       "      <td>1.0</td>\n",
       "      <td>01xx</td>\n",
       "      <td>slo</td>\n",
       "      <td>6 let</td>\n",
       "      <td>NAJEM</td>\n",
       "      <td>122150.0</td>\n",
       "      <td>90.0</td>\n",
       "      <td>3.51%</td>\n",
       "      <td>NaN</td>\n",
       "      <td>NaN</td>\n",
       "      <td>N</td>\n",
       "    </tr>\n",
       "    <tr>\n",
       "      <th>8</th>\n",
       "      <td>10</td>\n",
       "      <td>30455</td>\n",
       "      <td>54844</td>\n",
       "      <td>MoÅ¡ki</td>\n",
       "      <td>DA</td>\n",
       "      <td>2 osebi</td>\n",
       "      <td>Diplomiral</td>\n",
       "      <td>NE</td>\n",
       "      <td>1066.666667</td>\n",
       "      <td>1.0</td>\n",
       "      <td>84xx</td>\n",
       "      <td>SI</td>\n",
       "      <td>1 leto</td>\n",
       "      <td>NAJEM</td>\n",
       "      <td>24500.0</td>\n",
       "      <td>90.0</td>\n",
       "      <td>3.26%</td>\n",
       "      <td>NaN</td>\n",
       "      <td>NaN</td>\n",
       "      <td>Y</td>\n",
       "    </tr>\n",
       "    <tr>\n",
       "      <th>9</th>\n",
       "      <td>11</td>\n",
       "      <td>935</td>\n",
       "      <td>18820</td>\n",
       "      <td>MoÅ¡ki</td>\n",
       "      <td>DA</td>\n",
       "      <td>2 osebi</td>\n",
       "      <td>Diplomiral</td>\n",
       "      <td>NaN</td>\n",
       "      <td>833.333333</td>\n",
       "      <td>1.0</td>\n",
       "      <td>60xx</td>\n",
       "      <td>SI</td>\n",
       "      <td>10+ let</td>\n",
       "      <td>STANOVANJSKI KREDIT</td>\n",
       "      <td>38150.0</td>\n",
       "      <td>90.0</td>\n",
       "      <td>3.26%</td>\n",
       "      <td>NaN</td>\n",
       "      <td>NaN</td>\n",
       "      <td>Y</td>\n",
       "    </tr>\n",
       "  </tbody>\n",
       "</table>\n",
       "</div>"
      ],
      "text/plain": [
       "   Unnamed: 0  LoanID  ApplicantID ApplicantGender ApplicantMarried  \\\n",
       "0           0   56026        19874          MoÅ¡ki               NE   \n",
       "1           1   53884        34258          MoÅ¡ki               DA   \n",
       "2           2   28446        65530          MoÅ¡ki               DA   \n",
       "3           3   48350        66552          MoÅ¡ki               DA   \n",
       "4           4    7213         4270          MoÅ¡ki               NE   \n",
       "5           5   18217        39282          MoÅ¡ki               DA   \n",
       "6           6    3741        44057          MoÅ¡ki               DA   \n",
       "7           9   39566         5809          MoÅ¡ki               DA   \n",
       "8          10   30455        54844          MoÅ¡ki               DA   \n",
       "9          11     935        18820          MoÅ¡ki               DA   \n",
       "\n",
       "  ApplicantDependents ApplicantEducation ApplicantSelfEmployed  \\\n",
       "0              0 oseb         Diplomiral                    NE   \n",
       "1             1 oseba         Diplomiral                    NE   \n",
       "2              0 oseb         Diplomiral                    DA   \n",
       "3              0 oseb       Brez diplome                    NE   \n",
       "4              0 oseb         Diplomiral                    NE   \n",
       "5             2 osebi         Diplomiral                    DA   \n",
       "6              0 oseb       Brez diplome                    NE   \n",
       "7             1 oseba         Diplomiral                    NE   \n",
       "8             2 osebi         Diplomiral                    NE   \n",
       "9             2 osebi         Diplomiral                   NaN   \n",
       "\n",
       "   ApplicantIncome  ApplicantCreditHistory ApplicantZIP ApplicantState  \\\n",
       "0      1949.666667                     1.0         33xx      Slovenija   \n",
       "1      1527.666667                     1.0         64xx      Slovenija   \n",
       "2      1000.000000                     1.0         14xx             SI   \n",
       "3       861.000000                     1.0         30xx             si   \n",
       "4      2000.000000                     1.0         21xx             SI   \n",
       "5      1805.666667                     1.0         44xx             si   \n",
       "6       777.666667                     1.0         60xx             SI   \n",
       "7      4280.333333                     1.0         01xx            slo   \n",
       "8      1066.666667                     1.0         84xx             SI   \n",
       "9       833.333333                     1.0         60xx             SI   \n",
       "\n",
       "  ApplicantEmplLength     ApplicantHomeOwn  LoanAmount  LoanTerm LoanIntRate  \\\n",
       "0               5 let  STANOVANJSKI KREDIT         NaN      90.0       1.42%   \n",
       "1             10+ let                NAJEM     44800.0      90.0        3.9%   \n",
       "2              2 leti  STANOVANJSKI KREDIT     23100.0      90.0       3.26%   \n",
       "3              3 leta                NAJEM     42000.0      90.0        2.8%   \n",
       "4            < 1 leto  STANOVANJSKI KREDIT     49350.0      90.0        2.9%   \n",
       "5             10+ let  STANOVANJSKI KREDIT     93450.0      90.0        2.6%   \n",
       "6               7 let                NAJEM     33250.0      90.0        2.2%   \n",
       "7               6 let                NAJEM    122150.0      90.0       3.51%   \n",
       "8              1 leto                NAJEM     24500.0      90.0       3.26%   \n",
       "9             10+ let  STANOVANJSKI KREDIT     38150.0      90.0       3.26%   \n",
       "\n",
       "  LoanDesc LoanPurpose LoanApproved  \n",
       "0      NaN     prenova            Y  \n",
       "1      NaN       drugo            N  \n",
       "2      NaN         NaN            Y  \n",
       "3      NaN         NaN            Y  \n",
       "4      NaN         NaN            Y  \n",
       "5      NaN         NaN            Y  \n",
       "6      NaN         NaN            Y  \n",
       "7      NaN         NaN            N  \n",
       "8      NaN         NaN            Y  \n",
       "9      NaN         NaN            Y  "
      ]
     },
     "execution_count": 87,
     "metadata": {},
     "output_type": "execute_result"
    }
   ],
   "source": [
    "# Ucitavamo podatke\n",
    "Loan_df = pd.read_csv('C:/Users/Jelena/Downloads/task_two.csv', encoding='latin')\n",
    "print('Dimenzije podataka:', Loan_df.shape)\n",
    "\n",
    "Loan_df.head(10)"
   ]
  },
  {
   "cell_type": "code",
   "execution_count": 88,
   "metadata": {},
   "outputs": [
    {
     "data": {
      "text/plain": [
       "<AxesSubplot:xlabel='LoanApproved'>"
      ]
     },
     "execution_count": 88,
     "metadata": {},
     "output_type": "execute_result"
    },
    {
     "data": {
      "image/png": "[encoded data removed]",
      "text/plain": [
       "<Figure size 288x216 with 1 Axes>"
      ]
     },
     "metadata": {
      "needs_background": "light"
     },
     "output_type": "display_data"
    }
   ],
   "source": [
    "# Proveravamo raspodelu ciljne promenljive\n",
    "GroupedData = Loan_df.groupby('LoanApproved').size()\n",
    "GroupedData.plot(kind = 'bar', figsize = (4,3))"
   ]
  },
  {
   "cell_type": "markdown",
   "metadata": {},
   "source": [
    "# Osnovna analiza podataka"
   ]
  },
  {
   "cell_type": "code",
   "execution_count": 89,
   "metadata": {},
   "outputs": [
    {
     "name": "stdout",
     "output_type": "stream",
     "text": [
      "<class 'pandas.core.frame.DataFrame'>\n",
      "RangeIndex: 55382 entries, 0 to 55381\n",
      "Data columns (total 20 columns):\n",
      " #   Column                  Non-Null Count  Dtype  \n",
      "---  ------                  --------------  -----  \n",
      " 0   Unnamed: 0              55382 non-null  int64  \n",
      " 1   LoanID                  55382 non-null  int64  \n",
      " 2   ApplicantID             55382 non-null  int64  \n",
      " 3   ApplicantGender         54169 non-null  object \n",
      " 4   ApplicantMarried        55102 non-null  object \n",
      " 5   ApplicantDependents     53994 non-null  object \n",
      " 6   ApplicantEducation      55382 non-null  object \n",
      " 7   ApplicantSelfEmployed   52486 non-null  object \n",
      " 8   ApplicantIncome         55382 non-null  float64\n",
      " 9   ApplicantCreditHistory  50900 non-null  float64\n",
      " 10  ApplicantZIP            55382 non-null  object \n",
      " 11  ApplicantState          55382 non-null  object \n",
      " 12  ApplicantEmplLength     52729 non-null  object \n",
      " 13  ApplicantHomeOwn        55382 non-null  object \n",
      " 14  LoanAmount              53391 non-null  float64\n",
      " 15  LoanTerm                54069 non-null  float64\n",
      " 16  LoanIntRate             55382 non-null  object \n",
      " 17  LoanDesc                2180 non-null   object \n",
      " 18  LoanPurpose             21317 non-null  object \n",
      " 19  LoanApproved            55382 non-null  object \n",
      "dtypes: float64(4), int64(3), object(13)\n",
      "memory usage: 8.5+ MB\n"
     ]
    }
   ],
   "source": [
    "# Proanalizirajmo sumirane informacije o podacima\n",
    "Loan_df.info()"
   ]
  },
  {
   "cell_type": "code",
   "execution_count": 90,
   "metadata": {},
   "outputs": [
    {
     "data": {
      "text/html": [
       "<div>\n",
       "<style scoped>\n",
       "    .dataframe tbody tr th:only-of-type {\n",
       "        vertical-align: middle;\n",
       "    }\n",
       "\n",
       "    .dataframe tbody tr th {\n",
       "        vertical-align: top;\n",
       "    }\n",
       "\n",
       "    .dataframe thead th {\n",
       "        text-align: right;\n",
       "    }\n",
       "</style>\n",
       "<table border=\"1\" class=\"dataframe\">\n",
       "  <thead>\n",
       "    <tr style=\"text-align: right;\">\n",
       "      <th></th>\n",
       "      <th>Unnamed: 0</th>\n",
       "      <th>LoanID</th>\n",
       "      <th>ApplicantID</th>\n",
       "      <th>ApplicantGender</th>\n",
       "      <th>ApplicantMarried</th>\n",
       "      <th>ApplicantDependents</th>\n",
       "      <th>ApplicantEducation</th>\n",
       "      <th>ApplicantSelfEmployed</th>\n",
       "      <th>ApplicantIncome</th>\n",
       "      <th>ApplicantCreditHistory</th>\n",
       "      <th>ApplicantZIP</th>\n",
       "      <th>ApplicantState</th>\n",
       "      <th>ApplicantEmplLength</th>\n",
       "      <th>ApplicantHomeOwn</th>\n",
       "      <th>LoanAmount</th>\n",
       "      <th>LoanTerm</th>\n",
       "      <th>LoanIntRate</th>\n",
       "      <th>LoanDesc</th>\n",
       "      <th>LoanPurpose</th>\n",
       "      <th>LoanApproved</th>\n",
       "    </tr>\n",
       "  </thead>\n",
       "  <tbody>\n",
       "    <tr>\n",
       "      <th>count</th>\n",
       "      <td>55382.000000</td>\n",
       "      <td>55382.000000</td>\n",
       "      <td>55382.000000</td>\n",
       "      <td>54169</td>\n",
       "      <td>55102</td>\n",
       "      <td>53994</td>\n",
       "      <td>55382</td>\n",
       "      <td>52486</td>\n",
       "      <td>55382.000000</td>\n",
       "      <td>50900.000000</td>\n",
       "      <td>55382</td>\n",
       "      <td>55382</td>\n",
       "      <td>52729</td>\n",
       "      <td>55382</td>\n",
       "      <td>53391.000000</td>\n",
       "      <td>54069.000000</td>\n",
       "      <td>55382</td>\n",
       "      <td>2180</td>\n",
       "      <td>21317</td>\n",
       "      <td>55382</td>\n",
       "    </tr>\n",
       "    <tr>\n",
       "      <th>unique</th>\n",
       "      <td>NaN</td>\n",
       "      <td>NaN</td>\n",
       "      <td>NaN</td>\n",
       "      <td>2</td>\n",
       "      <td>2</td>\n",
       "      <td>4</td>\n",
       "      <td>2</td>\n",
       "      <td>2</td>\n",
       "      <td>NaN</td>\n",
       "      <td>NaN</td>\n",
       "      <td>44</td>\n",
       "      <td>5</td>\n",
       "      <td>11</td>\n",
       "      <td>3</td>\n",
       "      <td>NaN</td>\n",
       "      <td>NaN</td>\n",
       "      <td>65</td>\n",
       "      <td>1552</td>\n",
       "      <td>9</td>\n",
       "      <td>2</td>\n",
       "    </tr>\n",
       "    <tr>\n",
       "      <th>top</th>\n",
       "      <td>NaN</td>\n",
       "      <td>NaN</td>\n",
       "      <td>NaN</td>\n",
       "      <td>MoÅ¡ki</td>\n",
       "      <td>DA</td>\n",
       "      <td>0 oseb</td>\n",
       "      <td>Diplomiral</td>\n",
       "      <td>NE</td>\n",
       "      <td>NaN</td>\n",
       "      <td>NaN</td>\n",
       "      <td>33xx</td>\n",
       "      <td>SI</td>\n",
       "      <td>10+ let</td>\n",
       "      <td>STANOVANJSKI KREDIT</td>\n",
       "      <td>NaN</td>\n",
       "      <td>NaN</td>\n",
       "      <td>3.12%</td>\n",
       "      <td>IzPosojilojemalec je dodal na 03-17-14 &gt; kons...</td>\n",
       "      <td>kartica</td>\n",
       "      <td>Y</td>\n",
       "    </tr>\n",
       "    <tr>\n",
       "      <th>freq</th>\n",
       "      <td>NaN</td>\n",
       "      <td>NaN</td>\n",
       "      <td>NaN</td>\n",
       "      <td>44098</td>\n",
       "      <td>35898</td>\n",
       "      <td>31309</td>\n",
       "      <td>43086</td>\n",
       "      <td>45157</td>\n",
       "      <td>NaN</td>\n",
       "      <td>NaN</td>\n",
       "      <td>4684</td>\n",
       "      <td>27695</td>\n",
       "      <td>18105</td>\n",
       "      <td>28152</td>\n",
       "      <td>NaN</td>\n",
       "      <td>NaN</td>\n",
       "      <td>2958</td>\n",
       "      <td>12</td>\n",
       "      <td>13036</td>\n",
       "      <td>46454</td>\n",
       "    </tr>\n",
       "    <tr>\n",
       "      <th>mean</th>\n",
       "      <td>34567.738652</td>\n",
       "      <td>34589.653154</td>\n",
       "      <td>34502.024322</td>\n",
       "      <td>NaN</td>\n",
       "      <td>NaN</td>\n",
       "      <td>NaN</td>\n",
       "      <td>NaN</td>\n",
       "      <td>NaN</td>\n",
       "      <td>1797.359196</td>\n",
       "      <td>0.842593</td>\n",
       "      <td>NaN</td>\n",
       "      <td>NaN</td>\n",
       "      <td>NaN</td>\n",
       "      <td>NaN</td>\n",
       "      <td>51076.787286</td>\n",
       "      <td>85.456694</td>\n",
       "      <td>NaN</td>\n",
       "      <td>NaN</td>\n",
       "      <td>NaN</td>\n",
       "      <td>NaN</td>\n",
       "    </tr>\n",
       "    <tr>\n",
       "      <th>std</th>\n",
       "      <td>19957.683269</td>\n",
       "      <td>19936.557313</td>\n",
       "      <td>19958.352746</td>\n",
       "      <td>NaN</td>\n",
       "      <td>NaN</td>\n",
       "      <td>NaN</td>\n",
       "      <td>NaN</td>\n",
       "      <td>NaN</td>\n",
       "      <td>2006.631015</td>\n",
       "      <td>0.364187</td>\n",
       "      <td>NaN</td>\n",
       "      <td>NaN</td>\n",
       "      <td>NaN</td>\n",
       "      <td>NaN</td>\n",
       "      <td>29981.641674</td>\n",
       "      <td>16.227653</td>\n",
       "      <td>NaN</td>\n",
       "      <td>NaN</td>\n",
       "      <td>NaN</td>\n",
       "      <td>NaN</td>\n",
       "    </tr>\n",
       "    <tr>\n",
       "      <th>min</th>\n",
       "      <td>0.000000</td>\n",
       "      <td>0.000000</td>\n",
       "      <td>0.000000</td>\n",
       "      <td>NaN</td>\n",
       "      <td>NaN</td>\n",
       "      <td>NaN</td>\n",
       "      <td>NaN</td>\n",
       "      <td>NaN</td>\n",
       "      <td>50.000000</td>\n",
       "      <td>0.000000</td>\n",
       "      <td>NaN</td>\n",
       "      <td>NaN</td>\n",
       "      <td>NaN</td>\n",
       "      <td>NaN</td>\n",
       "      <td>3150.000000</td>\n",
       "      <td>3.000000</td>\n",
       "      <td>NaN</td>\n",
       "      <td>NaN</td>\n",
       "      <td>NaN</td>\n",
       "      <td>NaN</td>\n",
       "    </tr>\n",
       "    <tr>\n",
       "      <th>25%</th>\n",
       "      <td>17253.250000</td>\n",
       "      <td>17366.250000</td>\n",
       "      <td>17216.500000</td>\n",
       "      <td>NaN</td>\n",
       "      <td>NaN</td>\n",
       "      <td>NaN</td>\n",
       "      <td>NaN</td>\n",
       "      <td>NaN</td>\n",
       "      <td>958.666667</td>\n",
       "      <td>1.000000</td>\n",
       "      <td>NaN</td>\n",
       "      <td>NaN</td>\n",
       "      <td>NaN</td>\n",
       "      <td>NaN</td>\n",
       "      <td>35000.000000</td>\n",
       "      <td>90.000000</td>\n",
       "      <td>NaN</td>\n",
       "      <td>NaN</td>\n",
       "      <td>NaN</td>\n",
       "      <td>NaN</td>\n",
       "    </tr>\n",
       "    <tr>\n",
       "      <th>50%</th>\n",
       "      <td>34567.500000</td>\n",
       "      <td>34542.500000</td>\n",
       "      <td>34444.000000</td>\n",
       "      <td>NaN</td>\n",
       "      <td>NaN</td>\n",
       "      <td>NaN</td>\n",
       "      <td>NaN</td>\n",
       "      <td>NaN</td>\n",
       "      <td>1270.666667</td>\n",
       "      <td>1.000000</td>\n",
       "      <td>NaN</td>\n",
       "      <td>NaN</td>\n",
       "      <td>NaN</td>\n",
       "      <td>NaN</td>\n",
       "      <td>44450.000000</td>\n",
       "      <td>90.000000</td>\n",
       "      <td>NaN</td>\n",
       "      <td>NaN</td>\n",
       "      <td>NaN</td>\n",
       "      <td>NaN</td>\n",
       "    </tr>\n",
       "    <tr>\n",
       "      <th>75%</th>\n",
       "      <td>51871.750000</td>\n",
       "      <td>51820.750000</td>\n",
       "      <td>51774.500000</td>\n",
       "      <td>NaN</td>\n",
       "      <td>NaN</td>\n",
       "      <td>NaN</td>\n",
       "      <td>NaN</td>\n",
       "      <td>NaN</td>\n",
       "      <td>1933.333333</td>\n",
       "      <td>1.000000</td>\n",
       "      <td>NaN</td>\n",
       "      <td>NaN</td>\n",
       "      <td>NaN</td>\n",
       "      <td>NaN</td>\n",
       "      <td>58100.000000</td>\n",
       "      <td>90.000000</td>\n",
       "      <td>NaN</td>\n",
       "      <td>NaN</td>\n",
       "      <td>NaN</td>\n",
       "      <td>NaN</td>\n",
       "    </tr>\n",
       "    <tr>\n",
       "      <th>max</th>\n",
       "      <td>69132.000000</td>\n",
       "      <td>69133.000000</td>\n",
       "      <td>69134.000000</td>\n",
       "      <td>NaN</td>\n",
       "      <td>NaN</td>\n",
       "      <td>NaN</td>\n",
       "      <td>NaN</td>\n",
       "      <td>NaN</td>\n",
       "      <td>27000.000000</td>\n",
       "      <td>1.000000</td>\n",
       "      <td>NaN</td>\n",
       "      <td>NaN</td>\n",
       "      <td>NaN</td>\n",
       "      <td>NaN</td>\n",
       "      <td>245000.000000</td>\n",
       "      <td>120.000000</td>\n",
       "      <td>NaN</td>\n",
       "      <td>NaN</td>\n",
       "      <td>NaN</td>\n",
       "      <td>NaN</td>\n",
       "    </tr>\n",
       "  </tbody>\n",
       "</table>\n",
       "</div>"
      ],
      "text/plain": [
       "          Unnamed: 0        LoanID   ApplicantID ApplicantGender  \\\n",
       "count   55382.000000  55382.000000  55382.000000           54169   \n",
       "unique           NaN           NaN           NaN               2   \n",
       "top              NaN           NaN           NaN          MoÅ¡ki   \n",
       "freq             NaN           NaN           NaN           44098   \n",
       "mean    34567.738652  34589.653154  34502.024322             NaN   \n",
       "std     19957.683269  19936.557313  19958.352746             NaN   \n",
       "min         0.000000      0.000000      0.000000             NaN   \n",
       "25%     17253.250000  17366.250000  17216.500000             NaN   \n",
       "50%     34567.500000  34542.500000  34444.000000             NaN   \n",
       "75%     51871.750000  51820.750000  51774.500000             NaN   \n",
       "max     69132.000000  69133.000000  69134.000000             NaN   \n",
       "\n",
       "       ApplicantMarried ApplicantDependents ApplicantEducation  \\\n",
       "count             55102               53994              55382   \n",
       "unique                2                   4                  2   \n",
       "top                  DA              0 oseb         Diplomiral   \n",
       "freq              35898               31309              43086   \n",
       "mean                NaN                 NaN                NaN   \n",
       "std                 NaN                 NaN                NaN   \n",
       "min                 NaN                 NaN                NaN   \n",
       "25%                 NaN                 NaN                NaN   \n",
       "50%                 NaN                 NaN                NaN   \n",
       "75%                 NaN                 NaN                NaN   \n",
       "max                 NaN                 NaN                NaN   \n",
       "\n",
       "       ApplicantSelfEmployed  ApplicantIncome  ApplicantCreditHistory  \\\n",
       "count                  52486     55382.000000            50900.000000   \n",
       "unique                     2              NaN                     NaN   \n",
       "top                       NE              NaN                     NaN   \n",
       "freq                   45157              NaN                     NaN   \n",
       "mean                     NaN      1797.359196                0.842593   \n",
       "std                      NaN      2006.631015                0.364187   \n",
       "min                      NaN        50.000000                0.000000   \n",
       "25%                      NaN       958.666667                1.000000   \n",
       "50%                      NaN      1270.666667                1.000000   \n",
       "75%                      NaN      1933.333333                1.000000   \n",
       "max                      NaN     27000.000000                1.000000   \n",
       "\n",
       "       ApplicantZIP ApplicantState ApplicantEmplLength     ApplicantHomeOwn  \\\n",
       "count         55382          55382               52729                55382   \n",
       "unique           44              5                  11                    3   \n",
       "top            33xx             SI             10+ let  STANOVANJSKI KREDIT   \n",
       "freq           4684          27695               18105                28152   \n",
       "mean            NaN            NaN                 NaN                  NaN   \n",
       "std             NaN            NaN                 NaN                  NaN   \n",
       "min             NaN            NaN                 NaN                  NaN   \n",
       "25%             NaN            NaN                 NaN                  NaN   \n",
       "50%             NaN            NaN                 NaN                  NaN   \n",
       "75%             NaN            NaN                 NaN                  NaN   \n",
       "max             NaN            NaN                 NaN                  NaN   \n",
       "\n",
       "           LoanAmount      LoanTerm LoanIntRate  \\\n",
       "count    53391.000000  54069.000000       55382   \n",
       "unique            NaN           NaN          65   \n",
       "top               NaN           NaN       3.12%   \n",
       "freq              NaN           NaN        2958   \n",
       "mean     51076.787286     85.456694         NaN   \n",
       "std      29981.641674     16.227653         NaN   \n",
       "min       3150.000000      3.000000         NaN   \n",
       "25%      35000.000000     90.000000         NaN   \n",
       "50%      44450.000000     90.000000         NaN   \n",
       "75%      58100.000000     90.000000         NaN   \n",
       "max     245000.000000    120.000000         NaN   \n",
       "\n",
       "                                                 LoanDesc LoanPurpose  \\\n",
       "count                                                2180       21317   \n",
       "unique                                               1552           9   \n",
       "top      IzPosojilojemalec je dodal na 03-17-14 > kons...     kartica   \n",
       "freq                                                   12       13036   \n",
       "mean                                                  NaN         NaN   \n",
       "std                                                   NaN         NaN   \n",
       "min                                                   NaN         NaN   \n",
       "25%                                                   NaN         NaN   \n",
       "50%                                                   NaN         NaN   \n",
       "75%                                                   NaN         NaN   \n",
       "max                                                   NaN         NaN   \n",
       "\n",
       "       LoanApproved  \n",
       "count         55382  \n",
       "unique            2  \n",
       "top               Y  \n",
       "freq          46454  \n",
       "mean            NaN  \n",
       "std             NaN  \n",
       "min             NaN  \n",
       "25%             NaN  \n",
       "50%             NaN  \n",
       "75%             NaN  \n",
       "max             NaN  "
      ]
     },
     "execution_count": 90,
     "metadata": {},
     "output_type": "execute_result"
    }
   ],
   "source": [
    "# Inicijalna statisticka analiza podataka\n",
    "Loan_df.describe(include='all')"
   ]
  },
  {
   "cell_type": "code",
   "execution_count": 91,
   "metadata": {},
   "outputs": [
    {
     "data": {
      "text/plain": [
       "Unnamed: 0                55382\n",
       "LoanID                    55382\n",
       "ApplicantID               55382\n",
       "ApplicantGender               2\n",
       "ApplicantMarried              2\n",
       "ApplicantDependents           4\n",
       "ApplicantEducation            2\n",
       "ApplicantSelfEmployed         2\n",
       "ApplicantIncome             505\n",
       "ApplicantCreditHistory        2\n",
       "ApplicantZIP                 44\n",
       "ApplicantState                5\n",
       "ApplicantEmplLength          11\n",
       "ApplicantHomeOwn              3\n",
       "LoanAmount                  203\n",
       "LoanTerm                     10\n",
       "LoanIntRate                  65\n",
       "LoanDesc                   1552\n",
       "LoanPurpose                   9\n",
       "LoanApproved                  2\n",
       "dtype: int64"
      ]
     },
     "execution_count": 91,
     "metadata": {},
     "output_type": "execute_result"
    }
   ],
   "source": [
    "# Jedinstvene vrednosti svake kolone \n",
    "Loan_df.nunique()"
   ]
  },
  {
   "cell_type": "markdown",
   "metadata": {},
   "source": [
    "Based on the basic exploration above, we can now create a simple report of the data.\n",
    "Na osnovu prethodne inicijalne analize mozemo kreirati prve zakljucke i vec odbaciti par atributa\n",
    "\n",
    "- Unnamed: 0 Odbacena. Nece uticati na model. \n",
    "- LoanID: Odbacena. Nece uticati na model.\n",
    "- ApplicantID: Odbacena. Nece uticati na model.\n",
    "- ApplicantGender: Kategoricka. Neophodna dopuna podataka koji nedostaju.\n",
    "- ApplicantMarried: Kategoricka. Neophodna dopuna podataka koji nedostaju.\n",
    "- ApplicantDependents: Kategoricka. Neophodna dopuna podataka koji nedostaju.\n",
    "- ApplicantEducation: Kategoricka.\n",
    "- ApplicantSelfEmployed: Kategoricka. Neophodna dopuna podataka koji nedostaju.\n",
    "- ApplicantIncome: Kvantitativna.\n",
    "- ApplicantCreditHistory: Kategoricka. Neophodna dopuna podataka koji nedostaju.\n",
    "- ApplicantZIP: Odbacena. Nece uticati na model.\n",
    "- ApplicantState: Odbacena. Svi kandidati su iz Slovenije.\n",
    "- ApplicantEmplLength: Kategoricka. Neophodna dopuna podataka koji nedostaju.\n",
    "- ApplicantHomeOwn: Kategoricka.\n",
    "- LoanAmount: Kvantitativna. Neophodna dopuna podataka koji nedostaju.\n",
    "- LoanTerm: Kategoricka. Neophodna dopuna podataka koji nedostaju.\n",
    "- LoanIntRate: Kvantitativna.\n",
    "- LoanDesc:  Odbacena. Vise od 30% podataka nedostaje.\n",
    "- LoanPurpose:  Odbacena. Vise od 30% podataka nedostaje.\n",
    "- LoanApproved: Ciljna promenljiva."
   ]
  },
  {
   "cell_type": "markdown",
   "metadata": {},
   "source": [
    "### Uklanjanje odbacenih atributa"
   ]
  },
  {
   "cell_type": "code",
   "execution_count": 92,
   "metadata": {},
   "outputs": [
    {
     "data": {
      "text/html": [
       "<div>\n",
       "<style scoped>\n",
       "    .dataframe tbody tr th:only-of-type {\n",
       "        vertical-align: middle;\n",
       "    }\n",
       "\n",
       "    .dataframe tbody tr th {\n",
       "        vertical-align: top;\n",
       "    }\n",
       "\n",
       "    .dataframe thead th {\n",
       "        text-align: right;\n",
       "    }\n",
       "</style>\n",
       "<table border=\"1\" class=\"dataframe\">\n",
       "  <thead>\n",
       "    <tr style=\"text-align: right;\">\n",
       "      <th></th>\n",
       "      <th>ApplicantGender</th>\n",
       "      <th>ApplicantMarried</th>\n",
       "      <th>ApplicantDependents</th>\n",
       "      <th>ApplicantEducation</th>\n",
       "      <th>ApplicantSelfEmployed</th>\n",
       "      <th>ApplicantIncome</th>\n",
       "      <th>ApplicantCreditHistory</th>\n",
       "      <th>ApplicantEmplLength</th>\n",
       "      <th>ApplicantHomeOwn</th>\n",
       "      <th>LoanAmount</th>\n",
       "      <th>LoanTerm</th>\n",
       "      <th>LoanIntRate</th>\n",
       "      <th>LoanApproved</th>\n",
       "    </tr>\n",
       "  </thead>\n",
       "  <tbody>\n",
       "    <tr>\n",
       "      <th>0</th>\n",
       "      <td>MoÅ¡ki</td>\n",
       "      <td>NE</td>\n",
       "      <td>0 oseb</td>\n",
       "      <td>Diplomiral</td>\n",
       "      <td>NE</td>\n",
       "      <td>1949.666667</td>\n",
       "      <td>1.0</td>\n",
       "      <td>5 let</td>\n",
       "      <td>STANOVANJSKI KREDIT</td>\n",
       "      <td>NaN</td>\n",
       "      <td>90.0</td>\n",
       "      <td>1.42%</td>\n",
       "      <td>Y</td>\n",
       "    </tr>\n",
       "    <tr>\n",
       "      <th>1</th>\n",
       "      <td>MoÅ¡ki</td>\n",
       "      <td>DA</td>\n",
       "      <td>1 oseba</td>\n",
       "      <td>Diplomiral</td>\n",
       "      <td>NE</td>\n",
       "      <td>1527.666667</td>\n",
       "      <td>1.0</td>\n",
       "      <td>10+ let</td>\n",
       "      <td>NAJEM</td>\n",
       "      <td>44800.0</td>\n",
       "      <td>90.0</td>\n",
       "      <td>3.9%</td>\n",
       "      <td>N</td>\n",
       "    </tr>\n",
       "    <tr>\n",
       "      <th>2</th>\n",
       "      <td>MoÅ¡ki</td>\n",
       "      <td>DA</td>\n",
       "      <td>0 oseb</td>\n",
       "      <td>Diplomiral</td>\n",
       "      <td>DA</td>\n",
       "      <td>1000.000000</td>\n",
       "      <td>1.0</td>\n",
       "      <td>2 leti</td>\n",
       "      <td>STANOVANJSKI KREDIT</td>\n",
       "      <td>23100.0</td>\n",
       "      <td>90.0</td>\n",
       "      <td>3.26%</td>\n",
       "      <td>Y</td>\n",
       "    </tr>\n",
       "    <tr>\n",
       "      <th>3</th>\n",
       "      <td>MoÅ¡ki</td>\n",
       "      <td>DA</td>\n",
       "      <td>0 oseb</td>\n",
       "      <td>Brez diplome</td>\n",
       "      <td>NE</td>\n",
       "      <td>861.000000</td>\n",
       "      <td>1.0</td>\n",
       "      <td>3 leta</td>\n",
       "      <td>NAJEM</td>\n",
       "      <td>42000.0</td>\n",
       "      <td>90.0</td>\n",
       "      <td>2.8%</td>\n",
       "      <td>Y</td>\n",
       "    </tr>\n",
       "    <tr>\n",
       "      <th>4</th>\n",
       "      <td>MoÅ¡ki</td>\n",
       "      <td>NE</td>\n",
       "      <td>0 oseb</td>\n",
       "      <td>Diplomiral</td>\n",
       "      <td>NE</td>\n",
       "      <td>2000.000000</td>\n",
       "      <td>1.0</td>\n",
       "      <td>&lt; 1 leto</td>\n",
       "      <td>STANOVANJSKI KREDIT</td>\n",
       "      <td>49350.0</td>\n",
       "      <td>90.0</td>\n",
       "      <td>2.9%</td>\n",
       "      <td>Y</td>\n",
       "    </tr>\n",
       "  </tbody>\n",
       "</table>\n",
       "</div>"
      ],
      "text/plain": [
       "  ApplicantGender ApplicantMarried ApplicantDependents ApplicantEducation  \\\n",
       "0          MoÅ¡ki               NE              0 oseb         Diplomiral   \n",
       "1          MoÅ¡ki               DA             1 oseba         Diplomiral   \n",
       "2          MoÅ¡ki               DA              0 oseb         Diplomiral   \n",
       "3          MoÅ¡ki               DA              0 oseb       Brez diplome   \n",
       "4          MoÅ¡ki               NE              0 oseb         Diplomiral   \n",
       "\n",
       "  ApplicantSelfEmployed  ApplicantIncome  ApplicantCreditHistory  \\\n",
       "0                    NE      1949.666667                     1.0   \n",
       "1                    NE      1527.666667                     1.0   \n",
       "2                    DA      1000.000000                     1.0   \n",
       "3                    NE       861.000000                     1.0   \n",
       "4                    NE      2000.000000                     1.0   \n",
       "\n",
       "  ApplicantEmplLength     ApplicantHomeOwn  LoanAmount  LoanTerm LoanIntRate  \\\n",
       "0               5 let  STANOVANJSKI KREDIT         NaN      90.0       1.42%   \n",
       "1             10+ let                NAJEM     44800.0      90.0        3.9%   \n",
       "2              2 leti  STANOVANJSKI KREDIT     23100.0      90.0       3.26%   \n",
       "3              3 leta                NAJEM     42000.0      90.0        2.8%   \n",
       "4            < 1 leto  STANOVANJSKI KREDIT     49350.0      90.0        2.9%   \n",
       "\n",
       "  LoanApproved  \n",
       "0            Y  \n",
       "1            N  \n",
       "2            Y  \n",
       "3            Y  \n",
       "4            Y  "
      ]
     },
     "execution_count": 92,
     "metadata": {},
     "output_type": "execute_result"
    }
   ],
   "source": [
    "UselessColumns = ['Unnamed: 0', 'LoanID', 'ApplicantID', 'ApplicantZIP', 'ApplicantState', 'LoanDesc', 'LoanPurpose']\n",
    "Loan_df = Loan_df.drop(UselessColumns, axis=1)\n",
    "Loan_df.head()"
   ]
  },
  {
   "cell_type": "markdown",
   "metadata": {},
   "source": [
    "# Vizuelna analiza podataka"
   ]
  },
  {
   "cell_type": "code",
   "execution_count": 93,
   "metadata": {},
   "outputs": [],
   "source": [
    "# Crtamo kategoricke promenljive uz pomoc bar chart-a\n",
    "\n",
    "def PlotBarCharts(df, colsToPlot):\n",
    "        \n",
    "    fig, subPlot = plt.subplots(nrows = 1, ncols = len(colsToPlot), figsize = (40,6))\n",
    "    fig.suptitle('Bar charts of: '+ str(colsToPlot))\n",
    "\n",
    "    for colName, plotNumber in zip(colsToPlot, range(len(colsToPlot))):\n",
    "        df.groupby(colName).size().plot(kind = 'bar',ax = subPlot[plotNumber])\n"
   ]
  },
  {
   "cell_type": "code",
   "execution_count": 94,
   "metadata": {},
   "outputs": [
    {
     "data": {
      "image/png": "[encoded data removed]",
      "text/plain": [
       "<Figure size 2880x432 with 5 Axes>"
      ]
     },
     "metadata": {
      "needs_background": "light"
     },
     "output_type": "display_data"
    }
   ],
   "source": [
    "PlotBarCharts(df = Loan_df, colsToPlot=['ApplicantGender', 'ApplicantMarried', 'ApplicantDependents', \n",
    "                                         'ApplicantEducation', 'ApplicantSelfEmployed'])"
   ]
  },
  {
   "cell_type": "code",
   "execution_count": 95,
   "metadata": {},
   "outputs": [
    {
     "data": {
      "image/png": "[encoded data removed]",
      "text/plain": [
       "<Figure size 2880x432 with 4 Axes>"
      ]
     },
     "metadata": {
      "needs_background": "light"
     },
     "output_type": "display_data"
    }
   ],
   "source": [
    "PlotBarCharts(df = Loan_df, colsToPlot=['ApplicantCreditHistory', 'ApplicantEmplLength', 'ApplicantHomeOwn', 'LoanTerm' ])"
   ]
  },
  {
   "cell_type": "code",
   "execution_count": 96,
   "metadata": {},
   "outputs": [
    {
     "data": {
      "text/plain": [
       "array([[<AxesSubplot:title={'center':'ApplicantIncome'}>,\n",
       "        <AxesSubplot:title={'center':'LoanAmount'}>]], dtype=object)"
      ]
     },
     "execution_count": 96,
     "metadata": {},
     "output_type": "execute_result"
    },
    {
     "data": {
      "image/png": "[encoded data removed]",
      "text/plain": [
       "<Figure size 1296x720 with 2 Axes>"
      ]
     },
     "metadata": {
      "needs_background": "light"
     },
     "output_type": "display_data"
    }
   ],
   "source": [
    "# Za kvantitativne promenljive crtamo histograme\n",
    "# Primeticemo da ApplicantIncome ima autlajere\n",
    "Loan_df.hist(['ApplicantIncome','LoanAmount'], figsize=(18,10))"
   ]
  },
  {
   "cell_type": "markdown",
   "metadata": {},
   "source": [
    "# Tretman autlajera"
   ]
  },
  {
   "cell_type": "code",
   "execution_count": 97,
   "metadata": {},
   "outputs": [
    {
     "data": {
      "text/plain": [
       "40175    11282.0\n",
       "22007    11282.0\n",
       "22533    11282.0\n",
       "5324     11282.0\n",
       "15476    11282.0\n",
       "          ...   \n",
       "18867    27000.0\n",
       "19065    27000.0\n",
       "19699    27000.0\n",
       "44654    27000.0\n",
       "25236    27000.0\n",
       "Name: ApplicantIncome, Length: 616, dtype: float64"
      ]
     },
     "execution_count": 97,
     "metadata": {},
     "output_type": "execute_result"
    }
   ],
   "source": [
    "Loan_df['ApplicantIncome'][Loan_df['ApplicantIncome']>8000].sort_values()"
   ]
  },
  {
   "cell_type": "code",
   "execution_count": 98,
   "metadata": {},
   "outputs": [
    {
     "data": {
      "text/plain": [
       "1.1122747463074645"
      ]
     },
     "execution_count": 98,
     "metadata": {},
     "output_type": "execute_result"
    }
   ],
   "source": [
    "# Odbacivanjem kandidata sa zaradom vecom od 8000 odbacili bismo 1.1% uzorka\n",
    "616/55382*100"
   ]
  },
  {
   "cell_type": "code",
   "execution_count": 99,
   "metadata": {},
   "outputs": [],
   "source": [
    "# Bez gubitka opstosti autlajerima cemo dodeliti platu od 8000\n",
    "Loan_df['ApplicantIncome'][Loan_df['ApplicantIncome']>8000] = 8000"
   ]
  },
  {
   "cell_type": "code",
   "execution_count": 100,
   "metadata": {},
   "outputs": [
    {
     "data": {
      "text/plain": [
       "array([[<AxesSubplot:title={'center':'ApplicantIncome'}>]], dtype=object)"
      ]
     },
     "execution_count": 100,
     "metadata": {},
     "output_type": "execute_result"
    },
    {
     "data": {
      "image/png": "[encoded data removed]",
      "text/plain": [
       "<Figure size 1296x360 with 1 Axes>"
      ]
     },
     "metadata": {
      "needs_background": "light"
     },
     "output_type": "display_data"
    }
   ],
   "source": [
    "Loan_df.hist(['ApplicantIncome'], figsize=(18,5))"
   ]
  },
  {
   "cell_type": "markdown",
   "metadata": {},
   "source": [
    "# Dopunjavanje podataka"
   ]
  },
  {
   "cell_type": "code",
   "execution_count": 101,
   "metadata": {},
   "outputs": [
    {
     "data": {
      "text/plain": [
       "ApplicantGender           1213\n",
       "ApplicantMarried           280\n",
       "ApplicantDependents       1388\n",
       "ApplicantEducation           0\n",
       "ApplicantSelfEmployed     2896\n",
       "ApplicantIncome              0\n",
       "ApplicantCreditHistory    4482\n",
       "ApplicantEmplLength       2653\n",
       "ApplicantHomeOwn             0\n",
       "LoanAmount                1991\n",
       "LoanTerm                  1313\n",
       "LoanIntRate                  0\n",
       "LoanApproved                 0\n",
       "dtype: int64"
      ]
     },
     "execution_count": 101,
     "metadata": {},
     "output_type": "execute_result"
    }
   ],
   "source": [
    "Loan_df.isnull().sum()"
   ]
  },
  {
   "cell_type": "code",
   "execution_count": 102,
   "metadata": {},
   "outputs": [
    {
     "data": {
      "image/png": "[encoded data removed]",
      "text/plain": [
       "<Figure size 1800x720 with 2 Axes>"
      ]
     },
     "metadata": {
      "needs_background": "light"
     },
     "output_type": "display_data"
    }
   ],
   "source": [
    "msno.matrix(Loan_df, labels=True, sort=\"descending\");"
   ]
  },
  {
   "cell_type": "markdown",
   "metadata": {},
   "source": [
    "#### Najvise podataka nedostaje za 'ApplicantCreditHistory' i to 8% od totala 55382.\n",
    "#### Postoje razliciti nacini za dopunu podataka, za nas projekat koristicemo madijanu i modu dostupnih vrednosti."
   ]
  },
  {
   "cell_type": "code",
   "execution_count": 103,
   "metadata": {},
   "outputs": [],
   "source": [
    "# Koristimo modu za kategoricke atribute\n",
    "Loan_df['ApplicantGender'].fillna(Loan_df['ApplicantGender'].mode()[0], inplace=True)\n",
    "Loan_df['ApplicantMarried'].fillna(Loan_df['ApplicantMarried'].mode()[0], inplace=True)\n",
    "Loan_df['ApplicantDependents'].fillna(Loan_df['ApplicantDependents'].mode()[0], inplace=True)\n",
    "Loan_df['ApplicantSelfEmployed'].fillna(Loan_df['ApplicantSelfEmployed'].mode()[0], inplace=True)\n",
    "Loan_df['ApplicantCreditHistory'].fillna(Loan_df['ApplicantCreditHistory'].mode()[0], inplace=True)\n",
    "Loan_df['ApplicantEmplLength'].fillna(Loan_df['ApplicantEmplLength'].mode()[0], inplace=True)\n",
    "Loan_df['LoanTerm'].fillna(Loan_df['LoanTerm'].mode()[0], inplace=True)\n",
    "\n",
    "# Koristimo medijanu za neprekidne promenljive\n",
    "Loan_df['LoanAmount'].fillna(Loan_df['LoanAmount'].median(), inplace=True)"
   ]
  },
  {
   "cell_type": "code",
   "execution_count": 104,
   "metadata": {},
   "outputs": [
    {
     "data": {
      "text/plain": [
       "ApplicantGender           0\n",
       "ApplicantMarried          0\n",
       "ApplicantDependents       0\n",
       "ApplicantEducation        0\n",
       "ApplicantSelfEmployed     0\n",
       "ApplicantIncome           0\n",
       "ApplicantCreditHistory    0\n",
       "ApplicantEmplLength       0\n",
       "ApplicantHomeOwn          0\n",
       "LoanAmount                0\n",
       "LoanTerm                  0\n",
       "LoanIntRate               0\n",
       "LoanApproved              0\n",
       "dtype: int64"
      ]
     },
     "execution_count": 104,
     "metadata": {},
     "output_type": "execute_result"
    }
   ],
   "source": [
    "Loan_df.isnull().sum()"
   ]
  },
  {
   "cell_type": "markdown",
   "metadata": {},
   "source": [
    "# Odabir atributa"
   ]
  },
  {
   "cell_type": "markdown",
   "metadata": {},
   "source": [
    "- Vizualizacija odnosa neprekidnih atributa i ciljne promenljive\n",
    "- Statisticka provera veze izmedju atributa"
   ]
  },
  {
   "cell_type": "code",
   "execution_count": 105,
   "metadata": {},
   "outputs": [
    {
     "data": {
      "image/png": "[encoded data removed]",
      "text/plain": [
       "<Figure size 1296x360 with 2 Axes>"
      ]
     },
     "metadata": {
      "needs_background": "light"
     },
     "output_type": "display_data"
    }
   ],
   "source": [
    "# Box plot za kategoricku ciljnu promenljivu i neprekidne atribute\n",
    "ContinuousColsList=['ApplicantIncome', 'LoanAmount']\n",
    "\n",
    "fig, PlotCanvas=plt.subplots(nrows=1, ncols=len(ContinuousColsList), figsize=(18,5))\n",
    "\n",
    "# Pojedinacni box plotovi za svaku neprekidnu promenljivu\n",
    "for PredictorCol , i in zip(ContinuousColsList, range(len(ContinuousColsList))):\n",
    "    Loan_df.boxplot(column=PredictorCol, by='LoanApproved', figsize=(5,5), vert=True, ax=PlotCanvas[i])"
   ]
  },
  {
   "cell_type": "markdown",
   "metadata": {},
   "source": [
    "# Statisticka provera veze izmedju atributa ANOVA testom"
   ]
  },
  {
   "cell_type": "markdown",
   "metadata": {},
   "source": [
    "Analysis of variance(ANOVA) je test kojim statisticki potvrdjujemo vezu izmedju neprekidnih i kategorickih promenljivih.\n",
    "\n",
    "- Hipoteza (H0): Ne postoji veza izmdju datih atributa \n",
    "- ANOVA Test rezultat: Verovatnoca da je H0 tacna"
   ]
  },
  {
   "cell_type": "code",
   "execution_count": 106,
   "metadata": {},
   "outputs": [],
   "source": [
    "# Definismo funkciju za ANOVA test\n",
    "def FunctionAnova(df, TargetVariable, ContinuousPredictorList):\n",
    "    from scipy.stats import f_oneway\n",
    "\n",
    "    # Prazna lista gde cemo smestiti neprekidne atribute\n",
    "    SelectedPredictors=[]\n",
    "    \n",
    "    print('ANOVA Rezultati')\n",
    "    for predictor in ContinuousPredictorList:\n",
    "        CategoryGroupLists=df.groupby(TargetVariable)[predictor].apply(list)\n",
    "        AnovaResults = f_oneway(*CategoryGroupLists)\n",
    "        \n",
    "        # Ako je ANOVA p-vrednost <0.05, to ce znaciti da odbacujemo H0\n",
    "        if (AnovaResults[1] < 0.05):\n",
    "            print(predictor, 'je korelisan sa', TargetVariable, '| P-Value:', AnovaResults[1])\n",
    "            SelectedPredictors.append(predictor)\n",
    "        else:\n",
    "            print(predictor, 'nije korelisan sa', TargetVariable, '| P-Value:', AnovaResults[1])\n",
    "    \n",
    "    return(SelectedPredictors)"
   ]
  },
  {
   "cell_type": "code",
   "execution_count": 107,
   "metadata": {},
   "outputs": [
    {
     "name": "stdout",
     "output_type": "stream",
     "text": [
      "ANOVA Rezultati\n",
      "ApplicantIncome je korelisan sa LoanApproved | P-Value: 0.021203297699540435\n",
      "LoanAmount je korelisan sa LoanApproved | P-Value: 9.765723003353841e-73\n"
     ]
    },
    {
     "data": {
      "text/plain": [
       "['ApplicantIncome', 'LoanAmount']"
      ]
     },
     "execution_count": 107,
     "metadata": {},
     "output_type": "execute_result"
    }
   ],
   "source": [
    "# Pozivamo funkciju\n",
    "ContinuousVariables=['ApplicantIncome','LoanAmount']\n",
    "FunctionAnova(df=Loan_df, TargetVariable='LoanApproved', ContinuousPredictorList=ContinuousVariables)"
   ]
  },
  {
   "cell_type": "code",
   "execution_count": 108,
   "metadata": {},
   "outputs": [
    {
     "data": {
      "image/png": "[encoded data removed]",
      "text/plain": [
       "<Figure size 720x3600 with 9 Axes>"
      ]
     },
     "metadata": {
      "needs_background": "light"
     },
     "output_type": "display_data"
    }
   ],
   "source": [
    "# Bar charts koristimo za odnos kategorickih atributa sa ciljnom promenljivom\n",
    "CategoricalColsList=['ApplicantGender', 'ApplicantMarried', 'ApplicantDependents', 'ApplicantEducation', \n",
    "                     'ApplicantSelfEmployed', 'ApplicantCreditHistory', 'ApplicantEmplLength', \n",
    "                     'ApplicantHomeOwn', 'LoanTerm']\n",
    "\n",
    "\n",
    "fig, PlotCanvas=plt.subplots(nrows=len(CategoricalColsList), ncols=1, figsize=(10,50))\n",
    "\n",
    "\n",
    "for CategoricalCol , i in zip(CategoricalColsList, range(len(CategoricalColsList))):\n",
    "    CrossTabResult=pd.crosstab(index=Loan_df[CategoricalCol], columns=Loan_df['LoanApproved'])\n",
    "    CrossTabResult.plot.bar(color=['#1f77b4', '#9467bd'], ax=PlotCanvas[i])"
   ]
  },
  {
   "cell_type": "code",
   "execution_count": 109,
   "metadata": {},
   "outputs": [
    {
     "data": {
      "text/html": [
       "<div>\n",
       "<style scoped>\n",
       "    .dataframe tbody tr th:only-of-type {\n",
       "        vertical-align: middle;\n",
       "    }\n",
       "\n",
       "    .dataframe tbody tr th {\n",
       "        vertical-align: top;\n",
       "    }\n",
       "\n",
       "    .dataframe thead th {\n",
       "        text-align: right;\n",
       "    }\n",
       "</style>\n",
       "<table border=\"1\" class=\"dataframe\">\n",
       "  <thead>\n",
       "    <tr style=\"text-align: right;\">\n",
       "      <th></th>\n",
       "      <th>ApplicantMarried</th>\n",
       "      <th>ApplicantEducation</th>\n",
       "      <th>ApplicantSelfEmployed</th>\n",
       "      <th>ApplicantDependents</th>\n",
       "      <th>ApplicantCreditHistory</th>\n",
       "      <th>ApplicantHomeOwn</th>\n",
       "      <th>ApplicantIncome</th>\n",
       "      <th>LoanAmount</th>\n",
       "    </tr>\n",
       "  </thead>\n",
       "  <tbody>\n",
       "    <tr>\n",
       "      <th>0</th>\n",
       "      <td>NE</td>\n",
       "      <td>Diplomiral</td>\n",
       "      <td>NE</td>\n",
       "      <td>0 oseb</td>\n",
       "      <td>1.0</td>\n",
       "      <td>STANOVANJSKI KREDIT</td>\n",
       "      <td>1949.666667</td>\n",
       "      <td>44450.0</td>\n",
       "    </tr>\n",
       "    <tr>\n",
       "      <th>1</th>\n",
       "      <td>DA</td>\n",
       "      <td>Diplomiral</td>\n",
       "      <td>NE</td>\n",
       "      <td>1 oseba</td>\n",
       "      <td>1.0</td>\n",
       "      <td>NAJEM</td>\n",
       "      <td>1527.666667</td>\n",
       "      <td>44800.0</td>\n",
       "    </tr>\n",
       "    <tr>\n",
       "      <th>2</th>\n",
       "      <td>DA</td>\n",
       "      <td>Diplomiral</td>\n",
       "      <td>DA</td>\n",
       "      <td>0 oseb</td>\n",
       "      <td>1.0</td>\n",
       "      <td>STANOVANJSKI KREDIT</td>\n",
       "      <td>1000.000000</td>\n",
       "      <td>23100.0</td>\n",
       "    </tr>\n",
       "    <tr>\n",
       "      <th>3</th>\n",
       "      <td>DA</td>\n",
       "      <td>Brez diplome</td>\n",
       "      <td>NE</td>\n",
       "      <td>0 oseb</td>\n",
       "      <td>1.0</td>\n",
       "      <td>NAJEM</td>\n",
       "      <td>861.000000</td>\n",
       "      <td>42000.0</td>\n",
       "    </tr>\n",
       "    <tr>\n",
       "      <th>4</th>\n",
       "      <td>NE</td>\n",
       "      <td>Diplomiral</td>\n",
       "      <td>NE</td>\n",
       "      <td>0 oseb</td>\n",
       "      <td>1.0</td>\n",
       "      <td>STANOVANJSKI KREDIT</td>\n",
       "      <td>2000.000000</td>\n",
       "      <td>49350.0</td>\n",
       "    </tr>\n",
       "  </tbody>\n",
       "</table>\n",
       "</div>"
      ],
      "text/plain": [
       "  ApplicantMarried ApplicantEducation ApplicantSelfEmployed  \\\n",
       "0               NE         Diplomiral                    NE   \n",
       "1               DA         Diplomiral                    NE   \n",
       "2               DA         Diplomiral                    DA   \n",
       "3               DA       Brez diplome                    NE   \n",
       "4               NE         Diplomiral                    NE   \n",
       "\n",
       "  ApplicantDependents  ApplicantCreditHistory     ApplicantHomeOwn  \\\n",
       "0              0 oseb                     1.0  STANOVANJSKI KREDIT   \n",
       "1             1 oseba                     1.0                NAJEM   \n",
       "2              0 oseb                     1.0  STANOVANJSKI KREDIT   \n",
       "3              0 oseb                     1.0                NAJEM   \n",
       "4              0 oseb                     1.0  STANOVANJSKI KREDIT   \n",
       "\n",
       "   ApplicantIncome  LoanAmount  \n",
       "0      1949.666667     44450.0  \n",
       "1      1527.666667     44800.0  \n",
       "2      1000.000000     23100.0  \n",
       "3       861.000000     42000.0  \n",
       "4      2000.000000     49350.0  "
      ]
     },
     "execution_count": 109,
     "metadata": {},
     "output_type": "execute_result"
    }
   ],
   "source": [
    "SelectedColumns=['ApplicantMarried', 'ApplicantEducation',  'ApplicantSelfEmployed', 'ApplicantDependents',\n",
    "                 'ApplicantCreditHistory', 'ApplicantHomeOwn', 'ApplicantIncome','LoanAmount']\n",
    "\n",
    "# Finalni atributi za modeliranje\n",
    "Data_ML=Loan_df[SelectedColumns]\n",
    "Data_ML.head()"
   ]
  },
  {
   "cell_type": "markdown",
   "metadata": {},
   "source": [
    "# Priprema podataka za treniranje modela"
   ]
  },
  {
   "cell_type": "markdown",
   "metadata": {},
   "source": [
    "## Pretvaranje binarne nominalne varijable u numericku pomocu 1/0 preslikavanja"
   ]
  },
  {
   "cell_type": "code",
   "execution_count": 111,
   "metadata": {},
   "outputs": [],
   "source": [
    "Data_ML['ApplicantMarried'] = Data_ML.ApplicantMarried.astype(object)\n",
    "Data_ML['ApplicantEducation'] = Data_ML.ApplicantEducation.astype(object)\n",
    "Data_ML['ApplicantSelfEmployed'] = Data_ML.ApplicantSelfEmployed.astype(object)\n",
    "Data_ML['ApplicantCreditHistory'] = Data_ML.ApplicantCreditHistory.astype(object)"
   ]
  },
  {
   "cell_type": "code",
   "execution_count": 112,
   "metadata": {},
   "outputs": [
    {
     "data": {
      "text/html": [
       "<div>\n",
       "<style scoped>\n",
       "    .dataframe tbody tr th:only-of-type {\n",
       "        vertical-align: middle;\n",
       "    }\n",
       "\n",
       "    .dataframe tbody tr th {\n",
       "        vertical-align: top;\n",
       "    }\n",
       "\n",
       "    .dataframe thead th {\n",
       "        text-align: right;\n",
       "    }\n",
       "</style>\n",
       "<table border=\"1\" class=\"dataframe\">\n",
       "  <thead>\n",
       "    <tr style=\"text-align: right;\">\n",
       "      <th></th>\n",
       "      <th>ApplicantMarried</th>\n",
       "      <th>ApplicantEducation</th>\n",
       "      <th>ApplicantSelfEmployed</th>\n",
       "      <th>ApplicantDependents</th>\n",
       "      <th>ApplicantCreditHistory</th>\n",
       "      <th>ApplicantHomeOwn</th>\n",
       "      <th>ApplicantIncome</th>\n",
       "      <th>LoanAmount</th>\n",
       "    </tr>\n",
       "  </thead>\n",
       "  <tbody>\n",
       "    <tr>\n",
       "      <th>0</th>\n",
       "      <td>0</td>\n",
       "      <td>1</td>\n",
       "      <td>0</td>\n",
       "      <td>0 oseb</td>\n",
       "      <td>1.0</td>\n",
       "      <td>STANOVANJSKI KREDIT</td>\n",
       "      <td>1949.666667</td>\n",
       "      <td>44450.0</td>\n",
       "    </tr>\n",
       "    <tr>\n",
       "      <th>1</th>\n",
       "      <td>1</td>\n",
       "      <td>1</td>\n",
       "      <td>0</td>\n",
       "      <td>1 oseba</td>\n",
       "      <td>1.0</td>\n",
       "      <td>NAJEM</td>\n",
       "      <td>1527.666667</td>\n",
       "      <td>44800.0</td>\n",
       "    </tr>\n",
       "    <tr>\n",
       "      <th>2</th>\n",
       "      <td>1</td>\n",
       "      <td>1</td>\n",
       "      <td>1</td>\n",
       "      <td>0 oseb</td>\n",
       "      <td>1.0</td>\n",
       "      <td>STANOVANJSKI KREDIT</td>\n",
       "      <td>1000.000000</td>\n",
       "      <td>23100.0</td>\n",
       "    </tr>\n",
       "    <tr>\n",
       "      <th>3</th>\n",
       "      <td>1</td>\n",
       "      <td>0</td>\n",
       "      <td>0</td>\n",
       "      <td>0 oseb</td>\n",
       "      <td>1.0</td>\n",
       "      <td>NAJEM</td>\n",
       "      <td>861.000000</td>\n",
       "      <td>42000.0</td>\n",
       "    </tr>\n",
       "    <tr>\n",
       "      <th>4</th>\n",
       "      <td>0</td>\n",
       "      <td>1</td>\n",
       "      <td>0</td>\n",
       "      <td>0 oseb</td>\n",
       "      <td>1.0</td>\n",
       "      <td>STANOVANJSKI KREDIT</td>\n",
       "      <td>2000.000000</td>\n",
       "      <td>49350.0</td>\n",
       "    </tr>\n",
       "  </tbody>\n",
       "</table>\n",
       "</div>"
      ],
      "text/plain": [
       "   ApplicantMarried  ApplicantEducation  ApplicantSelfEmployed  \\\n",
       "0                 0                   1                      0   \n",
       "1                 1                   1                      0   \n",
       "2                 1                   1                      1   \n",
       "3                 1                   0                      0   \n",
       "4                 0                   1                      0   \n",
       "\n",
       "  ApplicantDependents  ApplicantCreditHistory     ApplicantHomeOwn  \\\n",
       "0              0 oseb                     1.0  STANOVANJSKI KREDIT   \n",
       "1             1 oseba                     1.0                NAJEM   \n",
       "2              0 oseb                     1.0  STANOVANJSKI KREDIT   \n",
       "3              0 oseb                     1.0                NAJEM   \n",
       "4              0 oseb                     1.0  STANOVANJSKI KREDIT   \n",
       "\n",
       "   ApplicantIncome  LoanAmount  \n",
       "0      1949.666667     44450.0  \n",
       "1      1527.666667     44800.0  \n",
       "2      1000.000000     23100.0  \n",
       "3       861.000000     42000.0  \n",
       "4      2000.000000     49350.0  "
      ]
     },
     "execution_count": 112,
     "metadata": {},
     "output_type": "execute_result"
    }
   ],
   "source": [
    "Data_ML['ApplicantMarried'].replace({'DA':1, 'NE':0}, inplace=True)\n",
    "Data_ML['ApplicantEducation'].replace({'Diplomiral':1, 'Brez diplome':0}, inplace=True)\n",
    "Data_ML['ApplicantSelfEmployed'].replace({'DA':1, 'NE':0}, inplace=True)\n",
    "Data_ML['ApplicantCreditHistory'].replace({'1.0':1, '0.0':0}, inplace=True)\n",
    "\n",
    "# Provera podataka nakon 1/0 mapiranja\n",
    "Data_ML.head()"
   ]
  },
  {
   "cell_type": "markdown",
   "metadata": {},
   "source": [
    "## Pretvaranje nominalne varijable u numericku pomocu get_dummies() funkcije"
   ]
  },
  {
   "cell_type": "code",
   "execution_count": 113,
   "metadata": {},
   "outputs": [
    {
     "data": {
      "text/html": [
       "<div>\n",
       "<style scoped>\n",
       "    .dataframe tbody tr th:only-of-type {\n",
       "        vertical-align: middle;\n",
       "    }\n",
       "\n",
       "    .dataframe tbody tr th {\n",
       "        vertical-align: top;\n",
       "    }\n",
       "\n",
       "    .dataframe thead th {\n",
       "        text-align: right;\n",
       "    }\n",
       "</style>\n",
       "<table border=\"1\" class=\"dataframe\">\n",
       "  <thead>\n",
       "    <tr style=\"text-align: right;\">\n",
       "      <th></th>\n",
       "      <th>ApplicantMarried</th>\n",
       "      <th>ApplicantEducation</th>\n",
       "      <th>ApplicantSelfEmployed</th>\n",
       "      <th>ApplicantCreditHistory</th>\n",
       "      <th>ApplicantIncome</th>\n",
       "      <th>LoanAmount</th>\n",
       "      <th>ApplicantDependents_0 oseb</th>\n",
       "      <th>ApplicantDependents_1 oseba</th>\n",
       "      <th>ApplicantDependents_2 osebi</th>\n",
       "      <th>ApplicantDependents_3+ osebe</th>\n",
       "      <th>ApplicantHomeOwn_LASTNO</th>\n",
       "      <th>ApplicantHomeOwn_NAJEM</th>\n",
       "      <th>ApplicantHomeOwn_STANOVANJSKI KREDIT</th>\n",
       "      <th>LoanApproved</th>\n",
       "    </tr>\n",
       "  </thead>\n",
       "  <tbody>\n",
       "    <tr>\n",
       "      <th>0</th>\n",
       "      <td>0</td>\n",
       "      <td>1</td>\n",
       "      <td>0</td>\n",
       "      <td>1.0</td>\n",
       "      <td>1949.666667</td>\n",
       "      <td>44450.0</td>\n",
       "      <td>1</td>\n",
       "      <td>0</td>\n",
       "      <td>0</td>\n",
       "      <td>0</td>\n",
       "      <td>0</td>\n",
       "      <td>0</td>\n",
       "      <td>1</td>\n",
       "      <td>1</td>\n",
       "    </tr>\n",
       "    <tr>\n",
       "      <th>1</th>\n",
       "      <td>1</td>\n",
       "      <td>1</td>\n",
       "      <td>0</td>\n",
       "      <td>1.0</td>\n",
       "      <td>1527.666667</td>\n",
       "      <td>44800.0</td>\n",
       "      <td>0</td>\n",
       "      <td>1</td>\n",
       "      <td>0</td>\n",
       "      <td>0</td>\n",
       "      <td>0</td>\n",
       "      <td>1</td>\n",
       "      <td>0</td>\n",
       "      <td>0</td>\n",
       "    </tr>\n",
       "    <tr>\n",
       "      <th>2</th>\n",
       "      <td>1</td>\n",
       "      <td>1</td>\n",
       "      <td>1</td>\n",
       "      <td>1.0</td>\n",
       "      <td>1000.000000</td>\n",
       "      <td>23100.0</td>\n",
       "      <td>1</td>\n",
       "      <td>0</td>\n",
       "      <td>0</td>\n",
       "      <td>0</td>\n",
       "      <td>0</td>\n",
       "      <td>0</td>\n",
       "      <td>1</td>\n",
       "      <td>1</td>\n",
       "    </tr>\n",
       "    <tr>\n",
       "      <th>3</th>\n",
       "      <td>1</td>\n",
       "      <td>0</td>\n",
       "      <td>0</td>\n",
       "      <td>1.0</td>\n",
       "      <td>861.000000</td>\n",
       "      <td>42000.0</td>\n",
       "      <td>1</td>\n",
       "      <td>0</td>\n",
       "      <td>0</td>\n",
       "      <td>0</td>\n",
       "      <td>0</td>\n",
       "      <td>1</td>\n",
       "      <td>0</td>\n",
       "      <td>1</td>\n",
       "    </tr>\n",
       "    <tr>\n",
       "      <th>4</th>\n",
       "      <td>0</td>\n",
       "      <td>1</td>\n",
       "      <td>0</td>\n",
       "      <td>1.0</td>\n",
       "      <td>2000.000000</td>\n",
       "      <td>49350.0</td>\n",
       "      <td>1</td>\n",
       "      <td>0</td>\n",
       "      <td>0</td>\n",
       "      <td>0</td>\n",
       "      <td>0</td>\n",
       "      <td>0</td>\n",
       "      <td>1</td>\n",
       "      <td>1</td>\n",
       "    </tr>\n",
       "  </tbody>\n",
       "</table>\n",
       "</div>"
      ],
      "text/plain": [
       "   ApplicantMarried  ApplicantEducation  ApplicantSelfEmployed  \\\n",
       "0                 0                   1                      0   \n",
       "1                 1                   1                      0   \n",
       "2                 1                   1                      1   \n",
       "3                 1                   0                      0   \n",
       "4                 0                   1                      0   \n",
       "\n",
       "   ApplicantCreditHistory  ApplicantIncome  LoanAmount  \\\n",
       "0                     1.0      1949.666667     44450.0   \n",
       "1                     1.0      1527.666667     44800.0   \n",
       "2                     1.0      1000.000000     23100.0   \n",
       "3                     1.0       861.000000     42000.0   \n",
       "4                     1.0      2000.000000     49350.0   \n",
       "\n",
       "   ApplicantDependents_0 oseb  ApplicantDependents_1 oseba  \\\n",
       "0                           1                            0   \n",
       "1                           0                            1   \n",
       "2                           1                            0   \n",
       "3                           1                            0   \n",
       "4                           1                            0   \n",
       "\n",
       "   ApplicantDependents_2 osebi  ApplicantDependents_3+ osebe  \\\n",
       "0                            0                             0   \n",
       "1                            0                             0   \n",
       "2                            0                             0   \n",
       "3                            0                             0   \n",
       "4                            0                             0   \n",
       "\n",
       "   ApplicantHomeOwn_LASTNO  ApplicantHomeOwn_NAJEM  \\\n",
       "0                        0                       0   \n",
       "1                        0                       1   \n",
       "2                        0                       0   \n",
       "3                        0                       1   \n",
       "4                        0                       0   \n",
       "\n",
       "   ApplicantHomeOwn_STANOVANJSKI KREDIT  LoanApproved  \n",
       "0                                     1             1  \n",
       "1                                     0             0  \n",
       "2                                     1             1  \n",
       "3                                     0             1  \n",
       "4                                     1             1  "
      ]
     },
     "execution_count": 113,
     "metadata": {},
     "output_type": "execute_result"
    }
   ],
   "source": [
    "# Sve nominalne varijable transformisemo u numericke pomocu get_dummies() funkcije\n",
    "Data_ML_Numeric=pd.get_dummies(Data_ML)\n",
    "\n",
    "# Dodajemo i ciljnu promanljivu\n",
    "Data_ML_Numeric['LoanApproved']=Loan_df['LoanApproved']\n",
    "Data_ML_Numeric['LoanApproved'].replace({'Y':1, 'N':0}, inplace=True)\n",
    "\n",
    "# DataFrame sa finalnim atributima za model\n",
    "Data_ML_Numeric.head()"
   ]
  },
  {
   "cell_type": "markdown",
   "metadata": {},
   "source": [
    "# Podela podataka za treniranje i testiranje"
   ]
  },
  {
   "cell_type": "code",
   "execution_count": 114,
   "metadata": {},
   "outputs": [
    {
     "data": {
      "text/plain": [
       "Index(['ApplicantMarried', 'ApplicantEducation', 'ApplicantSelfEmployed',\n",
       "       'ApplicantCreditHistory', 'ApplicantIncome', 'LoanAmount',\n",
       "       'ApplicantDependents_0 oseb', 'ApplicantDependents_1 oseba',\n",
       "       'ApplicantDependents_2 osebi', 'ApplicantDependents_3+ osebe',\n",
       "       'ApplicantHomeOwn_LASTNO', 'ApplicantHomeOwn_NAJEM',\n",
       "       'ApplicantHomeOwn_STANOVANJSKI KREDIT', 'LoanApproved'],\n",
       "      dtype='object')"
      ]
     },
     "execution_count": 114,
     "metadata": {},
     "output_type": "execute_result"
    }
   ],
   "source": [
    "Data_ML_Numeric.columns"
   ]
  },
  {
   "cell_type": "code",
   "execution_count": 115,
   "metadata": {},
   "outputs": [],
   "source": [
    "# Delimo atribute od ciljne promanljive\n",
    "TargetVariable='LoanApproved'\n",
    "Predictors=['ApplicantMarried', 'ApplicantEducation', 'ApplicantSelfEmployed',\n",
    "       'ApplicantCreditHistory', 'ApplicantIncome', 'LoanAmount', 'ApplicantDependents_0 oseb', 'ApplicantDependents_1 oseba',\n",
    "       'ApplicantDependents_2 osebi', 'ApplicantDependents_3+ osebe', 'ApplicantHomeOwn_LASTNO',\n",
    "       'ApplicantHomeOwn_NAJEM', 'ApplicantHomeOwn_STANOVANJSKI KREDIT']\n",
    "\n",
    "X=Data_ML_Numeric[Predictors].values\n",
    "y=Data_ML_Numeric[TargetVariable].values\n"
   ]
  },
  {
   "cell_type": "code",
   "execution_count": 116,
   "metadata": {},
   "outputs": [],
   "source": [
    "# Obzirom da ce se u radu fokusiram na poredjenje razlicitih tipova modela, podatke delim na skupove za trening i test \n",
    "from sklearn.model_selection import train_test_split\n",
    "X_train, X_test, y_train, y_test = train_test_split(X, y, test_size=0.3, stratify=y, random_state=10)"
   ]
  },
  {
   "cell_type": "markdown",
   "metadata": {},
   "source": [
    "# Sandardizacija"
   ]
  },
  {
   "cell_type": "code",
   "execution_count": 117,
   "metadata": {},
   "outputs": [],
   "source": [
    "# Sandardizacija podataka\n",
    "from sklearn.preprocessing import StandardScaler\n",
    "scaler = StandardScaler()\n",
    "scaler.fit(X_train)\n",
    "X_train = scaler.transform(X_train)\n",
    "X_test = scaler.transform(X_test)"
   ]
  },
  {
   "cell_type": "code",
   "execution_count": 118,
   "metadata": {},
   "outputs": [
    {
     "name": "stdout",
     "output_type": "stream",
     "text": [
      "(38767, 13)\n",
      "(38767,)\n",
      "(16615, 13)\n",
      "(16615,)\n"
     ]
    }
   ],
   "source": [
    "print(X_train.shape)\n",
    "print(y_train.shape)\n",
    "print(X_test.shape)\n",
    "print(y_test.shape)"
   ]
  },
  {
   "cell_type": "markdown",
   "metadata": {},
   "source": [
    "# Logisticka Regresija"
   ]
  },
  {
   "cell_type": "code",
   "execution_count": 119,
   "metadata": {},
   "outputs": [
    {
     "name": "stdout",
     "output_type": "stream",
     "text": [
      "LogisticRegression(C=1, class_weight=None, dual=False, fit_intercept=True,\n",
      "                   intercept_scaling=1, l1_ratio=None, max_iter=100,\n",
      "                   multi_class='auto', n_jobs=None, penalty='l2',\n",
      "                   random_state=None, solver='newton-cg', tol=0.0001, verbose=0,\n",
      "                   warm_start=False)\n"
     ]
    }
   ],
   "source": [
    "from sklearn.linear_model import LogisticRegression\n",
    "\n",
    "clf1 = LogisticRegression(C=1,penalty='l2', solver='newton-cg')\n",
    "\n",
    "# Prikazujemo sve parametre\n",
    "print(clf1)\n",
    "\n",
    "# Kreiramo model na trening podacima \n",
    "LOG=clf1.fit(X_train,y_train)\n",
    "prediction=LOG.predict(X_test)"
   ]
  },
  {
   "cell_type": "code",
   "execution_count": 120,
   "metadata": {},
   "outputs": [
    {
     "name": "stdout",
     "output_type": "stream",
     "text": [
      "              precision    recall  f1-score   support\n",
      "\n",
      "           0       0.97      0.92      0.94      2678\n",
      "           1       0.98      1.00      0.99     13937\n",
      "\n",
      "    accuracy                           0.98     16615\n",
      "   macro avg       0.98      0.96      0.97     16615\n",
      "weighted avg       0.98      0.98      0.98     16615\n",
      "\n",
      "[[ 2454   224]\n",
      " [   63 13874]]\n",
      "Preciznost modela na testnom skupu podataka: 0.98\n"
     ]
    }
   ],
   "source": [
    "# Proveravamo preciznost modela na test podacima\n",
    "from sklearn import metrics\n",
    "print(metrics.classification_report(y_test, prediction))\n",
    "print(metrics.confusion_matrix(y_test, prediction))\n",
    "\n",
    "F1_Score=metrics.f1_score(y_test, prediction, average='weighted')\n",
    "print('Preciznost modela na testnom skupu podataka:', round(F1_Score,2))"
   ]
  },
  {
   "cell_type": "code",
   "execution_count": 121,
   "metadata": {},
   "outputs": [
    {
     "name": "stdout",
     "output_type": "stream",
     "text": [
      "\n",
      "Preciznost modela za 10-fold unakrsnu validaciju:\n",
      " [0.97126942 0.98359248 0.98481836 0.98630806 0.98281081 0.98557805\n",
      " 0.98298133 0.98390021 0.98536383 0.98685909]\n",
      "\n",
      "Finalna prosecna preciznost modela: 0.98\n"
     ]
    }
   ],
   "source": [
    "# Unakrsna validacija\n",
    "from sklearn.model_selection import cross_val_score\n",
    "Accuracy_Values=cross_val_score(LOG, X , y, cv=10, scoring='f1_weighted')\n",
    "print('\\nPreciznost modela za 10-fold unakrsnu validaciju:\\n',Accuracy_Values)\n",
    "print('\\nFinalna prosecna preciznost modela:', round(Accuracy_Values.mean(),2))"
   ]
  },
  {
   "cell_type": "markdown",
   "metadata": {},
   "source": [
    "# Random Forest"
   ]
  },
  {
   "cell_type": "code",
   "execution_count": 123,
   "metadata": {},
   "outputs": [
    {
     "name": "stdout",
     "output_type": "stream",
     "text": [
      "RandomForestClassifier(bootstrap=True, ccp_alpha=0.0, class_weight=None,\n",
      "                       criterion='gini', max_depth=2, max_features='auto',\n",
      "                       max_leaf_nodes=None, max_samples=None,\n",
      "                       min_impurity_decrease=0.0, min_impurity_split=None,\n",
      "                       min_samples_leaf=1, min_samples_split=2,\n",
      "                       min_weight_fraction_leaf=0.0, n_estimators=100,\n",
      "                       n_jobs=None, oob_score=False, random_state=None,\n",
      "                       verbose=0, warm_start=False)\n"
     ]
    }
   ],
   "source": [
    "from sklearn.ensemble import RandomForestClassifier\n",
    "clf2 = RandomForestClassifier(max_depth=2, n_estimators=100,criterion='gini')\n",
    "\n",
    "# Prikazujemo sve parametre\n",
    "print(clf2)\n",
    "\n",
    "# Kreiramo model na trening podacima\n",
    "RF=clf2.fit(X_train,y_train)\n",
    "prediction=RF.predict(X_test)\n"
   ]
  },
  {
   "cell_type": "code",
   "execution_count": 124,
   "metadata": {},
   "outputs": [
    {
     "name": "stdout",
     "output_type": "stream",
     "text": [
      "              precision    recall  f1-score   support\n",
      "\n",
      "           0       0.99      0.71      0.83      2678\n",
      "           1       0.95      1.00      0.97     13937\n",
      "\n",
      "    accuracy                           0.95     16615\n",
      "   macro avg       0.97      0.85      0.90     16615\n",
      "weighted avg       0.95      0.95      0.95     16615\n",
      "\n",
      "[[ 1898   780]\n",
      " [   20 13917]]\n",
      "Preciznost modela na testnom skupu podataka: 0.95\n"
     ]
    }
   ],
   "source": [
    "# Proveravamo preciznost modela na test podacima\n",
    "from sklearn import metrics\n",
    "print(metrics.classification_report(y_test, prediction))\n",
    "print(metrics.confusion_matrix(y_test, prediction))\n",
    "\n",
    "F1_Score=metrics.f1_score(y_test, prediction, average='weighted')\n",
    "print('Preciznost modela na testnom skupu podataka:', round(F1_Score,2))"
   ]
  },
  {
   "cell_type": "code",
   "execution_count": 125,
   "metadata": {},
   "outputs": [
    {
     "name": "stdout",
     "output_type": "stream",
     "text": [
      "\n",
      "Preciznost modela za 10-fold unakrsnu validaciju:\n",
      " [0.86712053 0.77590112 0.98155918 0.77233134 0.98041377 0.95144874\n",
      " 0.77292318 0.95577523 0.78766512 0.98472902]\n",
      "\n",
      "Finalna prosecna preciznost modela: 0.88\n"
     ]
    }
   ],
   "source": [
    "# Unakrsna validacija\n",
    "from sklearn.model_selection import cross_val_score\n",
    "Accuracy_Values=cross_val_score(RF, X , y, cv=10, scoring='f1_weighted')\n",
    "print('\\nPreciznost modela za 10-fold unakrsnu validaciju:\\n',Accuracy_Values)\n",
    "print('\\nFinalna prosecna preciznost modela:', round(Accuracy_Values.mean(),2))"
   ]
  },
  {
   "cell_type": "code",
   "execution_count": 126,
   "metadata": {},
   "outputs": [
    {
     "data": {
      "text/plain": [
       "<AxesSubplot:>"
      ]
     },
     "execution_count": 126,
     "metadata": {},
     "output_type": "execute_result"
    },
    {
     "data": {
      "image/png": "[encoded data removed]",
      "text/plain": [
       "<Figure size 432x288 with 1 Axes>"
      ]
     },
     "metadata": {
      "needs_background": "light"
     },
     "output_type": "display_data"
    }
   ],
   "source": [
    "# Prikaz tezine atributa u modelu\n",
    "%matplotlib inline\n",
    "feature_importances = pd.Series(RF.feature_importances_, index=Predictors)\n",
    "feature_importances.nlargest(10).plot(kind='barh')"
   ]
  },
  {
   "cell_type": "markdown",
   "metadata": {},
   "source": [
    "# AdaBoost"
   ]
  },
  {
   "cell_type": "code",
   "execution_count": 127,
   "metadata": {},
   "outputs": [
    {
     "name": "stdout",
     "output_type": "stream",
     "text": [
      "AdaBoostClassifier(algorithm='SAMME.R',\n",
      "                   base_estimator=DecisionTreeClassifier(ccp_alpha=0.0,\n",
      "                                                         class_weight=None,\n",
      "                                                         criterion='gini',\n",
      "                                                         max_depth=1,\n",
      "                                                         max_features=None,\n",
      "                                                         max_leaf_nodes=None,\n",
      "                                                         min_impurity_decrease=0.0,\n",
      "                                                         min_impurity_split=None,\n",
      "                                                         min_samples_leaf=1,\n",
      "                                                         min_samples_split=2,\n",
      "                                                         min_weight_fraction_leaf=0.0,\n",
      "                                                         presort='deprecated',\n",
      "                                                         random_state=None,\n",
      "                                                         splitter='best'),\n",
      "                   learning_rate=0.01, n_estimators=500, random_state=None)\n"
     ]
    }
   ],
   "source": [
    "from sklearn.ensemble import AdaBoostClassifier\n",
    "from sklearn.tree import DecisionTreeClassifier\n",
    "\n",
    "DTC = DecisionTreeClassifier(max_depth=1)\n",
    "clf2 = AdaBoostClassifier(n_estimators=500, base_estimator=DTC ,learning_rate=0.01)\n",
    "\n",
    "# Prikazujemo sve parametre\n",
    "print(clf2)\n",
    "\n",
    "# Kreiramo model na trening podacima\n",
    "AB=clf2.fit(X_train,y_train)\n",
    "prediction=AB.predict(X_test)\n"
   ]
  },
  {
   "cell_type": "code",
   "execution_count": 128,
   "metadata": {},
   "outputs": [
    {
     "name": "stdout",
     "output_type": "stream",
     "text": [
      "              precision    recall  f1-score   support\n",
      "\n",
      "           0       0.99      0.89      0.94      2678\n",
      "           1       0.98      1.00      0.99     13937\n",
      "\n",
      "    accuracy                           0.98     16615\n",
      "   macro avg       0.99      0.94      0.96     16615\n",
      "weighted avg       0.98      0.98      0.98     16615\n",
      "\n",
      "[[ 2387   291]\n",
      " [   22 13915]]\n",
      "Preciznost modela na testnom skupu podataka: 0.98\n"
     ]
    }
   ],
   "source": [
    "# Proveravamo preciznost modela na test podacima\n",
    "from sklearn import metrics\n",
    "print(metrics.classification_report(y_test, prediction))\n",
    "print(metrics.confusion_matrix(y_test, prediction))\n",
    "\n",
    "F1_Score=metrics.f1_score(y_test, prediction, average='weighted')\n",
    "print('Preciznost modela na testnom skupu podataka:', round(F1_Score,2))"
   ]
  },
  {
   "cell_type": "code",
   "execution_count": 129,
   "metadata": {},
   "outputs": [
    {
     "name": "stdout",
     "output_type": "stream",
     "text": [
      "\n",
      "Preciznost modela za 10-fold unakrsnu validaciju:\n",
      " [0.96778802 0.98156306 0.98155918 0.98306844 0.98098256 0.98229736\n",
      " 0.98210846 0.98268356 0.98288061 0.9851044 ]\n",
      "\n",
      "Finalna prosecna preciznost modela: 0.98\n"
     ]
    }
   ],
   "source": [
    "# Unakrsna validacija\n",
    "from sklearn.model_selection import cross_val_score\n",
    "Accuracy_Values=cross_val_score(AB, X , y, cv=10, scoring='f1_weighted')\n",
    "print('\\nPreciznost modela za 10-fold unakrsnu validaciju:\\n',Accuracy_Values)\n",
    "print('\\nFinalna prosecna preciznost modela:', round(Accuracy_Values.mean(),2))\n"
   ]
  },
  {
   "cell_type": "code",
   "execution_count": 130,
   "metadata": {},
   "outputs": [
    {
     "data": {
      "text/plain": [
       "<AxesSubplot:>"
      ]
     },
     "execution_count": 130,
     "metadata": {},
     "output_type": "execute_result"
    },
    {
     "data": {
      "image/png": "[encoded data removed]",
      "text/plain": [
       "<Figure size 432x288 with 1 Axes>"
      ]
     },
     "metadata": {
      "needs_background": "light"
     },
     "output_type": "display_data"
    }
   ],
   "source": [
    "# Prikaz tezine atributa u modelu\n",
    "%matplotlib inline\n",
    "feature_importances = pd.Series(AB.feature_importances_, index=Predictors)\n",
    "feature_importances.nlargest(10).plot(kind='barh')"
   ]
  },
  {
   "cell_type": "markdown",
   "metadata": {},
   "source": [
    "# XGBoost"
   ]
  },
  {
   "cell_type": "code",
   "execution_count": 131,
   "metadata": {},
   "outputs": [
    {
     "name": "stdout",
     "output_type": "stream",
     "text": [
      "XGBClassifier(base_score=None, booster='gbtree', callbacks=None,\n",
      "              colsample_bylevel=None, colsample_bynode=None,\n",
      "              colsample_bytree=None, early_stopping_rounds=None,\n",
      "              enable_categorical=False, eval_metric=None, gamma=None,\n",
      "              gpu_id=None, grow_policy=None, importance_type=None,\n",
      "              interaction_constraints=None, learning_rate=0.01, max_bin=None,\n",
      "              max_cat_to_onehot=None, max_delta_step=None, max_depth=2,\n",
      "              max_leaves=None, min_child_weight=None, missing=nan,\n",
      "              monotone_constraints=None, n_estimators=200, n_jobs=None,\n",
      "              num_parallel_tree=None, objective='binary:logistic',\n",
      "              predictor=None, random_state=None, reg_alpha=None, ...)\n"
     ]
    }
   ],
   "source": [
    "from xgboost import XGBClassifier\n",
    "clf3=XGBClassifier(max_depth=2, learning_rate=0.01, n_estimators=200, objective='binary:logistic', booster='gbtree')\n",
    "\n",
    "# Prikazujemo sve parametre\n",
    "print(clf3)\n",
    "\n",
    "# Kreiramo model na trening podacima\n",
    "XGB=clf3.fit(X_train,y_train)\n",
    "prediction=XGB.predict(X_test)"
   ]
  },
  {
   "cell_type": "code",
   "execution_count": 132,
   "metadata": {},
   "outputs": [
    {
     "name": "stdout",
     "output_type": "stream",
     "text": [
      "              precision    recall  f1-score   support\n",
      "\n",
      "           0       0.99      0.89      0.94      2678\n",
      "           1       0.98      1.00      0.99     13937\n",
      "\n",
      "    accuracy                           0.98     16615\n",
      "   macro avg       0.99      0.94      0.96     16615\n",
      "weighted avg       0.98      0.98      0.98     16615\n",
      "\n",
      "[[ 2387   291]\n",
      " [   22 13915]]\n",
      "Preciznost modela na testnom skupu podataka: 0.98\n"
     ]
    }
   ],
   "source": [
    "# Proveravamo preciznost modela na test podacima\n",
    "from sklearn import metrics\n",
    "print(metrics.classification_report(y_test, prediction))\n",
    "print(metrics.confusion_matrix(y_test, prediction))\n",
    "\n",
    "F1_Score=metrics.f1_score(y_test, prediction, average='weighted')\n",
    "print('Preciznost modela na testnom skupu podataka:', round(F1_Score,2))\n"
   ]
  },
  {
   "cell_type": "code",
   "execution_count": 133,
   "metadata": {},
   "outputs": [
    {
     "name": "stdout",
     "output_type": "stream",
     "text": [
      "\n",
      "Preciznost modela za 10-fold unakrsnu validaciju:\n",
      " [0.96778802 0.98156306 0.98155918 0.98306844 0.98098256 0.98229736\n",
      " 0.98210846 0.98268356 0.98288061 0.9851044 ]\n",
      "\n",
      "Finalna prosecna preciznost modela: 0.98\n"
     ]
    }
   ],
   "source": [
    "# Unakrsna validacija\n",
    "from sklearn.model_selection import cross_val_score\n",
    "Accuracy_Values=cross_val_score(XGB, X , y, cv=10, scoring='f1_weighted')\n",
    "print('\\nPreciznost modela za 10-fold unakrsnu validaciju:\\n',Accuracy_Values)\n",
    "print('\\nFinalna prosecna preciznost modela:', round(Accuracy_Values.mean(),2))"
   ]
  },
  {
   "cell_type": "code",
   "execution_count": 134,
   "metadata": {
    "scrolled": true
   },
   "outputs": [
    {
     "data": {
      "text/plain": [
       "<AxesSubplot:>"
      ]
     },
     "execution_count": 134,
     "metadata": {},
     "output_type": "execute_result"
    },
    {
     "data": {
      "image/png": "[encoded data removed]",
      "text/plain": [
       "<Figure size 432x288 with 1 Axes>"
      ]
     },
     "metadata": {
      "needs_background": "light"
     },
     "output_type": "display_data"
    }
   ],
   "source": [
    "# Prikaz tezine atributa u modelu\n",
    "%matplotlib inline\n",
    "feature_importances = pd.Series(XGB.feature_importances_, index=Predictors)\n",
    "feature_importances.nlargest(10).plot(kind='barh')"
   ]
  },
  {
   "cell_type": "code",
   "execution_count": null,
   "metadata": {},
   "outputs": [],
   "source": []
  }
 ],
 "metadata": {
  "kernelspec": {
   "display_name": "Python 3",
   "language": "python",
   "name": "python3"
  },
  "language_info": {
   "codemirror_mode": {
    "name": "ipython",
    "version": 3
   },
   "file_extension": ".py",
   "mimetype": "text/x-python",
   "name": "python",
   "nbconvert_exporter": "python",
   "pygments_lexer": "ipython3",
   "version": "3.8.8"
  }
 },
 "nbformat": 4,
 "nbformat_minor": 4
}
